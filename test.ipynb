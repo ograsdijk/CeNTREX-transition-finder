{
 "cells": [
  {
   "cell_type": "code",
   "execution_count": 1,
   "metadata": {},
   "outputs": [
    {
     "name": "stderr",
     "output_type": "stream",
     "text": [
      "2024-05-22 14:09:58.791 WARNING streamlit.runtime.caching.cache_data_api: No runtime found, using MemoryCacheStorageManager\n"
     ]
    }
   ],
   "source": [
    "import itertools\n",
    "from dataclasses import dataclass\n",
    "\n",
    "import numpy as np\n",
    "import numpy.typing as npt\n",
    "import pandas as pd\n",
    "\n",
    "from centrex_tlf import states, transitions, couplings, utils\n",
    "\n",
    "from hamiltonian_utils import (\n",
    "    generate_hamiltonian,\n",
    "    get_transition_from_state,\n",
    "    get_energies,\n",
    "    sort_transitions,\n",
    "    get_transitions,\n",
    ")\n",
    "from calibration import R0_F1_1_2_F_1, get_offset\n"
   ]
  },
  {
   "cell_type": "code",
   "execution_count": 2,
   "metadata": {},
   "outputs": [
    {
     "name": "stderr",
     "output_type": "stream",
     "text": [
      "2024-05-22 14:09:59.503 \n",
      "  \u001b[33m\u001b[1mWarning:\u001b[0m to view this Streamlit app on a browser, run it with the following\n",
      "  command:\n",
      "\n",
      "    streamlit run c:\\Users\\ogras\\anaconda3\\envs\\centrex-transition-finder\\lib\\site-packages\\ipykernel_launcher.py [ARGUMENTS]\n",
      "2024-05-22 14:09:59.505 No runtime found, using MemoryCacheStorageManager\n",
      "c:\\Users\\ogras\\Documents\\GitHub\\CeNTREX-transition-finder\\hamiltonian_utils.py:124: RuntimeWarning: divide by zero encountered in scalar divide\n",
      "  n_photons = 1 / br_off if 1 / br_off < 100 else 100\n",
      "c:\\Users\\ogras\\Documents\\GitHub\\CeNTREX-transition-finder\\hamiltonian_utils.py:124: RuntimeWarning: divide by zero encountered in scalar divide\n",
      "  n_photons = 1 / br_off if 1 / br_off < 100 else 100\n",
      "c:\\Users\\ogras\\Documents\\GitHub\\CeNTREX-transition-finder\\hamiltonian_utils.py:124: RuntimeWarning: divide by zero encountered in scalar divide\n",
      "  n_photons = 1 / br_off if 1 / br_off < 100 else 100\n",
      "c:\\Users\\ogras\\Documents\\GitHub\\CeNTREX-transition-finder\\hamiltonian_utils.py:124: RuntimeWarning: divide by zero encountered in scalar divide\n",
      "  n_photons = 1 / br_off if 1 / br_off < 100 else 100\n",
      "c:\\Users\\ogras\\Documents\\GitHub\\CeNTREX-transition-finder\\hamiltonian_utils.py:124: RuntimeWarning: divide by zero encountered in scalar divide\n",
      "  n_photons = 1 / br_off if 1 / br_off < 100 else 100\n",
      "c:\\Users\\ogras\\Documents\\GitHub\\CeNTREX-transition-finder\\hamiltonian_utils.py:124: RuntimeWarning: divide by zero encountered in scalar divide\n",
      "  n_photons = 1 / br_off if 1 / br_off < 100 else 100\n"
     ]
    }
   ],
   "source": [
    "J_ground = [0, 1, 2, 3]\n",
    "J_excited = [1, 2, 3]\n",
    "\n",
    "transitions_sorted = get_transitions(J_ground, J_excited)\n"
   ]
  },
  {
   "cell_type": "code",
   "execution_count": 3,
   "metadata": {},
   "outputs": [],
   "source": [
    "reduced_hamiltonian = generate_hamiltonian(J_ground, J_excited)"
   ]
  },
  {
   "cell_type": "code",
   "execution_count": 4,
   "metadata": {},
   "outputs": [
    {
     "data": {
      "text/plain": [
       "array([OpticalTransition(Q(3) F1'=7/2 F'=4),\n",
       "       OpticalTransition(Q(2) F1'=3/2 F'=1),\n",
       "       OpticalTransition(Q(3) F1'=5/2 F'=2),\n",
       "       OpticalTransition(Q(3) F1'=5/2 F'=3),\n",
       "       OpticalTransition(Q(2) F1'=3/2 F'=2),\n",
       "       OpticalTransition(R(0) F1'=3/2 F'=1),\n",
       "       OpticalTransition(R(0) F1'=3/2 F'=2),\n",
       "       OpticalTransition(R(1) F1'=5/2 F'=2),\n",
       "       OpticalTransition(R(1) F1'=5/2 F'=3),\n",
       "       OpticalTransition(R(1) F1'=3/2 F'=1),\n",
       "       OpticalTransition(R(1) F1'=3/2 F'=2),\n",
       "       OpticalTransition(S(0) F1'=5/2 F'=2),\n",
       "       OpticalTransition(R(2) F1'=7/2 F'=3),\n",
       "       OpticalTransition(R(2) F1'=7/2 F'=4),\n",
       "       OpticalTransition(S(0) F1'=3/2 F'=1),\n",
       "       OpticalTransition(R(2) F1'=5/2 F'=2),\n",
       "       OpticalTransition(R(2) F1'=5/2 F'=3),\n",
       "       OpticalTransition(S(0) F1'=3/2 F'=2),\n",
       "       OpticalTransition(S(1) F1'=7/2 F'=3),\n",
       "       OpticalTransition(S(1) F1'=5/2 F'=2)], dtype=object)"
      ]
     },
     "execution_count": 4,
     "metadata": {},
     "output_type": "execute_result"
    }
   ],
   "source": [
    "transitions_sorted.transitions[20:40]"
   ]
  },
  {
   "cell_type": "code",
   "execution_count": 5,
   "metadata": {},
   "outputs": [
    {
     "name": "stdout",
     "output_type": "stream",
     "text": [
      "OpticalTransition(R(0) F1'=3/2 F'=2) 1.9218897248769047\n"
     ]
    },
    {
     "data": {
      "text/html": [
       "<div>\n",
       "<style scoped>\n",
       "    .dataframe tbody tr th:only-of-type {\n",
       "        vertical-align: middle;\n",
       "    }\n",
       "\n",
       "    .dataframe tbody tr th {\n",
       "        vertical-align: top;\n",
       "    }\n",
       "\n",
       "    .dataframe thead th {\n",
       "        text-align: right;\n",
       "    }\n",
       "</style>\n",
       "<table border=\"1\" class=\"dataframe\">\n",
       "  <thead>\n",
       "    <tr style=\"text-align: right;\">\n",
       "      <th></th>\n",
       "      <th>|B, J = 1, F₁ = 3/2, F = 2&gt;</th>\n",
       "    </tr>\n",
       "    <tr>\n",
       "      <th>states</th>\n",
       "      <th></th>\n",
       "    </tr>\n",
       "  </thead>\n",
       "  <tbody>\n",
       "    <tr>\n",
       "      <th>|X, J = 0&gt;</th>\n",
       "      <td>0.479679</td>\n",
       "    </tr>\n",
       "    <tr>\n",
       "      <th>|X, J = 2&gt;</th>\n",
       "      <td>0.520321</td>\n",
       "    </tr>\n",
       "  </tbody>\n",
       "</table>\n",
       "</div>"
      ],
      "text/plain": [
       "            |B, J = 1, F₁ = 3/2, F = 2>\n",
       "states                                 \n",
       "|X, J = 0>                     0.479679\n",
       "|X, J = 2>                     0.520321"
      ]
     },
     "execution_count": 5,
     "metadata": {},
     "output_type": "execute_result"
    }
   ],
   "source": [
    "idt = 26\n",
    "df = couplings.generate_br_dataframe(\n",
    "    reduced_hamiltonian.X_states,\n",
    "    transitions_sorted.transitions_data[idt].states_excited,\n",
    "    group_ground=\"J\",\n",
    ")\n",
    "df\n",
    "\n",
    "\n",
    "Js = np.array([int(df.iloc[i].name[-2]) for i in range(len(df))])\n",
    "br_off = np.sum(\n",
    "    [\n",
    "        df.iloc[i].values\n",
    "        for i in np.where(Js != transitions_sorted.transitions[idt].J_ground)[0]\n",
    "    ]\n",
    ")\n",
    "n_photons = 1 / br_off if 1 / br_off < 100 else 100\n",
    "print(transitions_sorted.transitions[idt], n_photons)\n",
    "df\n"
   ]
  },
  {
   "cell_type": "code",
   "execution_count": 6,
   "metadata": {},
   "outputs": [
    {
     "data": {
      "text/plain": [
       "array([0.04842538, 0.13165443, 0.1802049 , 0.18776653, 0.16282737,\n",
       "       0.12164199, 0.07963084, 0.046123  , 0.02377961, 0.01095671])"
      ]
     },
     "execution_count": 6,
     "metadata": {},
     "output_type": "execute_result"
    }
   ],
   "source": [
    "utils.population.thermal_population(J=np.arange(10), T=6.5)"
   ]
  },
  {
   "cell_type": "code",
   "execution_count": 7,
   "metadata": {},
   "outputs": [
    {
     "data": {
      "text/plain": [
       "20"
      ]
     },
     "execution_count": 7,
     "metadata": {},
     "output_type": "execute_result"
    }
   ],
   "source": [
    "utils.population.J_levels(2)"
   ]
  },
  {
   "cell_type": "code",
   "execution_count": 8,
   "metadata": {},
   "outputs": [
    {
     "data": {
      "text/plain": [
       "15"
      ]
     },
     "execution_count": 8,
     "metadata": {},
     "output_type": "execute_result"
    }
   ],
   "source": [
    "len(transitions_sorted.transitions_data[idt].states_ground)"
   ]
  },
  {
   "cell_type": "code",
   "execution_count": 14,
   "metadata": {},
   "outputs": [
    {
     "data": {
      "text/plain": [
       "array([1.00+0.00j x |X, J = 0, F₁ = 1/2, F = 1, mF = -1, I₁ = 1/2, I₂ = 1/2, P = +, Ω = 0>,\n",
       "       1.00+0.00j x |X, J = 0, F₁ = 1/2, F = 1, mF = -1, I₁ = 1/2, I₂ = 1/2, P = +, Ω = 0>,\n",
       "       1.00+0.00j x |X, J = 0, F₁ = 1/2, F = 1, mF = -1, I₁ = 1/2, I₂ = 1/2, P = +, Ω = 0>,\n",
       "       1.00+0.00j x |X, J = 0, F₁ = 1/2, F = 1, mF = -1, I₁ = 1/2, I₂ = 1/2, P = +, Ω = 0>,\n",
       "       1.00+0.00j x |X, J = 0, F₁ = 1/2, F = 1, mF = -1, I₁ = 1/2, I₂ = 1/2, P = +, Ω = 0>,\n",
       "       1.00-0.00j x |X, J = 0, F₁ = 1/2, F = 1, mF = 0, I₁ = 1/2, I₂ = 1/2, P = +, Ω = 0>,\n",
       "       1.00-0.00j x |X, J = 0, F₁ = 1/2, F = 1, mF = 0, I₁ = 1/2, I₂ = 1/2, P = +, Ω = 0>,\n",
       "       1.00-0.00j x |X, J = 0, F₁ = 1/2, F = 1, mF = 0, I₁ = 1/2, I₂ = 1/2, P = +, Ω = 0>,\n",
       "       1.00-0.00j x |X, J = 0, F₁ = 1/2, F = 1, mF = 0, I₁ = 1/2, I₂ = 1/2, P = +, Ω = 0>,\n",
       "       1.00-0.00j x |X, J = 0, F₁ = 1/2, F = 1, mF = 0, I₁ = 1/2, I₂ = 1/2, P = +, Ω = 0>,\n",
       "       1.00-0.00j x |X, J = 0, F₁ = 1/2, F = 1, mF = 1, I₁ = 1/2, I₂ = 1/2, P = +, Ω = 0>,\n",
       "       1.00-0.00j x |X, J = 0, F₁ = 1/2, F = 1, mF = 1, I₁ = 1/2, I₂ = 1/2, P = +, Ω = 0>,\n",
       "       1.00-0.00j x |X, J = 0, F₁ = 1/2, F = 1, mF = 1, I₁ = 1/2, I₂ = 1/2, P = +, Ω = 0>,\n",
       "       1.00-0.00j x |X, J = 0, F₁ = 1/2, F = 1, mF = 1, I₁ = 1/2, I₂ = 1/2, P = +, Ω = 0>,\n",
       "       1.00-0.00j x |X, J = 0, F₁ = 1/2, F = 1, mF = 1, I₁ = 1/2, I₂ = 1/2, P = +, Ω = 0>],\n",
       "      dtype=object)"
      ]
     },
     "execution_count": 14,
     "metadata": {},
     "output_type": "execute_result"
    }
   ],
   "source": [
    "transitions_sorted.transitions_data[idt].states_ground"
   ]
  },
  {
   "cell_type": "code",
   "execution_count": 10,
   "metadata": {},
   "outputs": [
    {
     "data": {
      "text/plain": [
       "array([3237.07026026, 3237.07021062, 3237.07016099, 3237.07011135,\n",
       "       3237.07006171, 3237.07026107, 3237.07021143, 3237.0701618 ,\n",
       "       3237.07011216, 3237.07006253, 3237.07026188, 3237.07021224,\n",
       "       3237.07016261, 3237.07011297, 3237.07006334])"
      ]
     },
     "execution_count": 10,
     "metadata": {},
     "output_type": "execute_result"
    }
   ],
   "source": [
    "transitions_sorted.transitions_data[idt].energies"
   ]
  },
  {
   "cell_type": "code",
   "execution_count": 11,
   "metadata": {},
   "outputs": [
    {
     "data": {
      "text/plain": [
       "[1.00+0.00j x |X, J = 0, F₁ = 1/2, F = 1, mF = -1, I₁ = 1/2, I₂ = 1/2, P = +, Ω = 0>,\n",
       " 1.00-0.00j x |X, J = 0, F₁ = 1/2, F = 1, mF = 0, I₁ = 1/2, I₂ = 1/2, P = +, Ω = 0>,\n",
       " 1.00-0.00j x |X, J = 0, F₁ = 1/2, F = 1, mF = 1, I₁ = 1/2, I₂ = 1/2, P = +, Ω = 0>]"
      ]
     },
     "execution_count": 11,
     "metadata": {},
     "output_type": "execute_result"
    }
   ],
   "source": [
    "from hamiltonian_utils import unique_unsorted\n",
    "\n",
    "unique_unsorted(transitions_sorted.transitions_data[idt].states_ground)\n"
   ]
  },
  {
   "cell_type": "code",
   "execution_count": 12,
   "metadata": {},
   "outputs": [],
   "source": [
    "mask_nonzero = transitions_sorted.transitions_data[idt].coupling_elements != 0"
   ]
  },
  {
   "cell_type": "code",
   "execution_count": 13,
   "metadata": {},
   "outputs": [
    {
     "data": {
      "text/plain": [
       "array([0.85+0.00j x |B, J = 1, F₁ = 3/2, F = 2, mF = -2, I₁ = 1/2, I₂ = 1/2, P = -, Ω = 1>\n",
       "       0.53+0.00j x |B, J = 2, F₁ = 3/2, F = 2, mF = -2, I₁ = 1/2, I₂ = 1/2, P = -, Ω = 1>\n",
       "       0.01+0.00j x |B, J = 2, F₁ = 5/2, F = 2, mF = -2, I₁ = 1/2, I₂ = 1/2, P = -, Ω = 1>\n",
       "       0.01+0.00j x |B, J = 3, F₁ = 5/2, F = 2, mF = -2, I₁ = 1/2, I₂ = 1/2, P = -, Ω = 1>,\n",
       "       0.85+0.00j x |B, J = 1, F₁ = 3/2, F = 2, mF = -1, I₁ = 1/2, I₂ = 1/2, P = -, Ω = 1>\n",
       "       0.53+0.00j x |B, J = 2, F₁ = 3/2, F = 2, mF = -1, I₁ = 1/2, I₂ = 1/2, P = -, Ω = 1>\n",
       "       0.01+0.00j x |B, J = 2, F₁ = 5/2, F = 2, mF = -1, I₁ = 1/2, I₂ = 1/2, P = -, Ω = 1>\n",
       "       0.01+0.00j x |B, J = 3, F₁ = 5/2, F = 2, mF = -1, I₁ = 1/2, I₂ = 1/2, P = -, Ω = 1>,\n",
       "       0.85+0.00j x |B, J = 1, F₁ = 3/2, F = 2, mF = 0, I₁ = 1/2, I₂ = 1/2, P = -, Ω = 1>\n",
       "       0.53+0.00j x |B, J = 2, F₁ = 3/2, F = 2, mF = 0, I₁ = 1/2, I₂ = 1/2, P = -, Ω = 1>\n",
       "       0.01+0.00j x |B, J = 2, F₁ = 5/2, F = 2, mF = 0, I₁ = 1/2, I₂ = 1/2, P = -, Ω = 1>\n",
       "       0.01+0.00j x |B, J = 3, F₁ = 5/2, F = 2, mF = 0, I₁ = 1/2, I₂ = 1/2, P = -, Ω = 1>,\n",
       "       0.85+0.00j x |B, J = 1, F₁ = 3/2, F = 2, mF = -1, I₁ = 1/2, I₂ = 1/2, P = -, Ω = 1>\n",
       "       0.53+0.00j x |B, J = 2, F₁ = 3/2, F = 2, mF = -1, I₁ = 1/2, I₂ = 1/2, P = -, Ω = 1>\n",
       "       0.01+0.00j x |B, J = 2, F₁ = 5/2, F = 2, mF = -1, I₁ = 1/2, I₂ = 1/2, P = -, Ω = 1>\n",
       "       0.01+0.00j x |B, J = 3, F₁ = 5/2, F = 2, mF = -1, I₁ = 1/2, I₂ = 1/2, P = -, Ω = 1>,\n",
       "       0.85+0.00j x |B, J = 1, F₁ = 3/2, F = 2, mF = 0, I₁ = 1/2, I₂ = 1/2, P = -, Ω = 1>\n",
       "       0.53+0.00j x |B, J = 2, F₁ = 3/2, F = 2, mF = 0, I₁ = 1/2, I₂ = 1/2, P = -, Ω = 1>\n",
       "       0.01+0.00j x |B, J = 2, F₁ = 5/2, F = 2, mF = 0, I₁ = 1/2, I₂ = 1/2, P = -, Ω = 1>\n",
       "       0.01+0.00j x |B, J = 3, F₁ = 5/2, F = 2, mF = 0, I₁ = 1/2, I₂ = 1/2, P = -, Ω = 1>,\n",
       "       0.85+0.00j x |B, J = 1, F₁ = 3/2, F = 2, mF = 1, I₁ = 1/2, I₂ = 1/2, P = -, Ω = 1>\n",
       "       0.53+0.00j x |B, J = 2, F₁ = 3/2, F = 2, mF = 1, I₁ = 1/2, I₂ = 1/2, P = -, Ω = 1>\n",
       "       0.01+0.00j x |B, J = 2, F₁ = 5/2, F = 2, mF = 1, I₁ = 1/2, I₂ = 1/2, P = -, Ω = 1>\n",
       "       0.01+0.00j x |B, J = 3, F₁ = 5/2, F = 2, mF = 1, I₁ = 1/2, I₂ = 1/2, P = -, Ω = 1>,\n",
       "       0.85+0.00j x |B, J = 1, F₁ = 3/2, F = 2, mF = 0, I₁ = 1/2, I₂ = 1/2, P = -, Ω = 1>\n",
       "       0.53+0.00j x |B, J = 2, F₁ = 3/2, F = 2, mF = 0, I₁ = 1/2, I₂ = 1/2, P = -, Ω = 1>\n",
       "       0.01+0.00j x |B, J = 2, F₁ = 5/2, F = 2, mF = 0, I₁ = 1/2, I₂ = 1/2, P = -, Ω = 1>\n",
       "       0.01+0.00j x |B, J = 3, F₁ = 5/2, F = 2, mF = 0, I₁ = 1/2, I₂ = 1/2, P = -, Ω = 1>,\n",
       "       0.85+0.00j x |B, J = 1, F₁ = 3/2, F = 2, mF = 1, I₁ = 1/2, I₂ = 1/2, P = -, Ω = 1>\n",
       "       0.53+0.00j x |B, J = 2, F₁ = 3/2, F = 2, mF = 1, I₁ = 1/2, I₂ = 1/2, P = -, Ω = 1>\n",
       "       0.01+0.00j x |B, J = 2, F₁ = 5/2, F = 2, mF = 1, I₁ = 1/2, I₂ = 1/2, P = -, Ω = 1>\n",
       "       0.01+0.00j x |B, J = 3, F₁ = 5/2, F = 2, mF = 1, I₁ = 1/2, I₂ = 1/2, P = -, Ω = 1>,\n",
       "       0.85+0.00j x |B, J = 1, F₁ = 3/2, F = 2, mF = 2, I₁ = 1/2, I₂ = 1/2, P = -, Ω = 1>\n",
       "       0.53+0.00j x |B, J = 2, F₁ = 3/2, F = 2, mF = 2, I₁ = 1/2, I₂ = 1/2, P = -, Ω = 1>\n",
       "       0.01+0.00j x |B, J = 2, F₁ = 5/2, F = 2, mF = 2, I₁ = 1/2, I₂ = 1/2, P = -, Ω = 1>\n",
       "       0.01+0.00j x |B, J = 3, F₁ = 5/2, F = 2, mF = 2, I₁ = 1/2, I₂ = 1/2, P = -, Ω = 1>],\n",
       "      dtype=object)"
      ]
     },
     "execution_count": 13,
     "metadata": {},
     "output_type": "execute_result"
    }
   ],
   "source": [
    "transitions_sorted.transitions_data[idt].states_excited[mask_nonzero]"
   ]
  },
  {
   "cell_type": "code",
   "execution_count": 18,
   "metadata": {},
   "outputs": [
    {
     "name": "stdout",
     "output_type": "stream",
     "text": [
      "|B, J = 1, F₁ = 3/2, F = 2>\n"
     ]
    }
   ],
   "source": [
    "for val in df:\n",
    "    print(val)\n"
   ]
  },
  {
   "cell_type": "code",
   "execution_count": 45,
   "metadata": {},
   "outputs": [],
   "source": [
    "from hamiltonian_utils import Transitions\n",
    "\n",
    "\n",
    "def generate_dataframe_branching(\n",
    "    transitions_interest: list[transitions.OpticalTransition],\n",
    "    sorted_transitions: Transitions,\n",
    "    energy_lim: tuple[float, float] = (-300, 300),\n",
    "    ir_uv: str = \"IR\",\n",
    ") -> pd.DataFrame:\n",
    "    if ir_uv == \"IR\":\n",
    "        convert = 1\n",
    "    else:\n",
    "        convert = 4\n",
    "\n",
    "    indices_center = np.where(sorted_transitions.transitions == transitions_interest)[0]\n",
    "\n",
    "    offset = sorted_transitions.energies_mean[indices_center]\n",
    "\n",
    "    mask = ((sorted_transitions.energies_mean - offset) * convert >= energy_lim[0]) & (\n",
    "        (sorted_transitions.energies_mean - offset) * convert <= energy_lim[1]\n",
    "    )\n",
    "\n",
    "    print(\n",
    "        [\n",
    "            [int(trans.br.iloc[i].name[-2]) for i in range(len(trans.br))]\n",
    "            for trans in sorted_transitions.transitions_data[mask]\n",
    "        ]\n",
    "    )\n",
    "    Js = np.unique(\n",
    "        [\n",
    "            item\n",
    "            for row in [\n",
    "                [int(trans.br.iloc[i].name[-2]) for i in range(len(trans.br))]\n",
    "                for trans in sorted_transitions.transitions_data[mask]\n",
    "            ]\n",
    "            for item in row\n",
    "        ]\n",
    "    )\n",
    "\n",
    "    branching = np.zeros((mask.sum(), Js.size))\n",
    "    for idt, trans in enumerate(sorted_transitions.transitions_data[mask]):\n",
    "        br = np.zeros(Js.shape)\n",
    "        dat = [(i, int(trans.br.iloc[i].name[-2])) for i in range(len(trans.br))]\n",
    "        for i, Ji in dat:\n",
    "            br[np.where(Js == Ji)] = trans.br.iloc[i].values\n",
    "        branching[idt] = br\n",
    "    df = pd.DataFrame(\n",
    "        {\n",
    "            \"transition\": [\n",
    "                trans.name for trans in sorted_transitions.transitions[mask]\n",
    "            ],\n",
    "        }\n",
    "    )\n",
    "    for idj, Ji in enumerate(Js):\n",
    "        df[f\"J = {Ji}\"] = branching[:, idj]\n",
    "\n",
    "    return df.set_index(\"transition\")\n"
   ]
  },
  {
   "cell_type": "code",
   "execution_count": 46,
   "metadata": {},
   "outputs": [
    {
     "name": "stdout",
     "output_type": "stream",
     "text": [
      "[[0, 2], [1, 3], [0, 2], [1, 3], [2], [1, 3], [3], [0, 2], [1, 3], [1, 3], [0, 2]]\n"
     ]
    },
    {
     "ename": "ValueError",
     "evalue": "setting an array element with a sequence. The requested array has an inhomogeneous shape after 1 dimensions. The detected shape was (11,) + inhomogeneous part.",
     "output_type": "error",
     "traceback": [
      "\u001b[1;31m---------------------------------------------------------------------------\u001b[0m",
      "\u001b[1;31mValueError\u001b[0m                                Traceback (most recent call last)",
      "\u001b[1;32mc:\\Users\\ogras\\Documents\\GitHub\\CeNTREX-transition-finder\\test.ipynb Cell 16\u001b[0m line \u001b[0;36m1\n\u001b[1;32m----> <a href='vscode-notebook-cell:/c%3A/Users/ogras/Documents/GitHub/CeNTREX-transition-finder/test.ipynb#Y102sZmlsZQ%3D%3D?line=0'>1</a>\u001b[0m generate_dataframe_branching(\n\u001b[0;32m      <a href='vscode-notebook-cell:/c%3A/Users/ogras/Documents/GitHub/CeNTREX-transition-finder/test.ipynb#Y102sZmlsZQ%3D%3D?line=1'>2</a>\u001b[0m     transitions_sorted\u001b[39m.\u001b[39;49mtransitions[\u001b[39m20\u001b[39;49m],\n\u001b[0;32m      <a href='vscode-notebook-cell:/c%3A/Users/ogras/Documents/GitHub/CeNTREX-transition-finder/test.ipynb#Y102sZmlsZQ%3D%3D?line=2'>3</a>\u001b[0m     transitions_sorted,\n\u001b[0;32m      <a href='vscode-notebook-cell:/c%3A/Users/ogras/Documents/GitHub/CeNTREX-transition-finder/test.ipynb#Y102sZmlsZQ%3D%3D?line=3'>4</a>\u001b[0m )\n",
      "\u001b[1;32mc:\\Users\\ogras\\Documents\\GitHub\\CeNTREX-transition-finder\\test.ipynb Cell 16\u001b[0m line \u001b[0;36m2\n\u001b[0;32m     <a href='vscode-notebook-cell:/c%3A/Users/ogras/Documents/GitHub/CeNTREX-transition-finder/test.ipynb#Y102sZmlsZQ%3D%3D?line=18'>19</a>\u001b[0m mask \u001b[39m=\u001b[39m ((sorted_transitions\u001b[39m.\u001b[39menergies_mean \u001b[39m-\u001b[39m offset) \u001b[39m*\u001b[39m convert \u001b[39m>\u001b[39m\u001b[39m=\u001b[39m energy_lim[\u001b[39m0\u001b[39m]) \u001b[39m&\u001b[39m (\n\u001b[0;32m     <a href='vscode-notebook-cell:/c%3A/Users/ogras/Documents/GitHub/CeNTREX-transition-finder/test.ipynb#Y102sZmlsZQ%3D%3D?line=19'>20</a>\u001b[0m     (sorted_transitions\u001b[39m.\u001b[39menergies_mean \u001b[39m-\u001b[39m offset) \u001b[39m*\u001b[39m convert \u001b[39m<\u001b[39m\u001b[39m=\u001b[39m energy_lim[\u001b[39m1\u001b[39m]\n\u001b[0;32m     <a href='vscode-notebook-cell:/c%3A/Users/ogras/Documents/GitHub/CeNTREX-transition-finder/test.ipynb#Y102sZmlsZQ%3D%3D?line=20'>21</a>\u001b[0m )\n\u001b[0;32m     <a href='vscode-notebook-cell:/c%3A/Users/ogras/Documents/GitHub/CeNTREX-transition-finder/test.ipynb#Y102sZmlsZQ%3D%3D?line=22'>23</a>\u001b[0m \u001b[39mprint\u001b[39m(\n\u001b[0;32m     <a href='vscode-notebook-cell:/c%3A/Users/ogras/Documents/GitHub/CeNTREX-transition-finder/test.ipynb#Y102sZmlsZQ%3D%3D?line=23'>24</a>\u001b[0m     [\n\u001b[0;32m     <a href='vscode-notebook-cell:/c%3A/Users/ogras/Documents/GitHub/CeNTREX-transition-finder/test.ipynb#Y102sZmlsZQ%3D%3D?line=24'>25</a>\u001b[0m         [\u001b[39mint\u001b[39m(trans\u001b[39m.\u001b[39mbr\u001b[39m.\u001b[39miloc[i]\u001b[39m.\u001b[39mname[\u001b[39m-\u001b[39m\u001b[39m2\u001b[39m]) \u001b[39mfor\u001b[39;00m i \u001b[39min\u001b[39;00m \u001b[39mrange\u001b[39m(\u001b[39mlen\u001b[39m(trans\u001b[39m.\u001b[39mbr))]\n\u001b[0;32m     <a href='vscode-notebook-cell:/c%3A/Users/ogras/Documents/GitHub/CeNTREX-transition-finder/test.ipynb#Y102sZmlsZQ%3D%3D?line=25'>26</a>\u001b[0m         \u001b[39mfor\u001b[39;00m trans \u001b[39min\u001b[39;00m sorted_transitions\u001b[39m.\u001b[39mtransitions_data[mask]\n\u001b[0;32m     <a href='vscode-notebook-cell:/c%3A/Users/ogras/Documents/GitHub/CeNTREX-transition-finder/test.ipynb#Y102sZmlsZQ%3D%3D?line=26'>27</a>\u001b[0m     ]\n\u001b[0;32m     <a href='vscode-notebook-cell:/c%3A/Users/ogras/Documents/GitHub/CeNTREX-transition-finder/test.ipynb#Y102sZmlsZQ%3D%3D?line=27'>28</a>\u001b[0m )\n\u001b[1;32m---> <a href='vscode-notebook-cell:/c%3A/Users/ogras/Documents/GitHub/CeNTREX-transition-finder/test.ipynb#Y102sZmlsZQ%3D%3D?line=28'>29</a>\u001b[0m Js \u001b[39m=\u001b[39m np\u001b[39m.\u001b[39;49munique(\n\u001b[0;32m     <a href='vscode-notebook-cell:/c%3A/Users/ogras/Documents/GitHub/CeNTREX-transition-finder/test.ipynb#Y102sZmlsZQ%3D%3D?line=29'>30</a>\u001b[0m     [\n\u001b[0;32m     <a href='vscode-notebook-cell:/c%3A/Users/ogras/Documents/GitHub/CeNTREX-transition-finder/test.ipynb#Y102sZmlsZQ%3D%3D?line=30'>31</a>\u001b[0m         item\n\u001b[0;32m     <a href='vscode-notebook-cell:/c%3A/Users/ogras/Documents/GitHub/CeNTREX-transition-finder/test.ipynb#Y102sZmlsZQ%3D%3D?line=31'>32</a>\u001b[0m         \u001b[39mfor\u001b[39;49;00m item \u001b[39min\u001b[39;49;00m [\n\u001b[0;32m     <a href='vscode-notebook-cell:/c%3A/Users/ogras/Documents/GitHub/CeNTREX-transition-finder/test.ipynb#Y102sZmlsZQ%3D%3D?line=32'>33</a>\u001b[0m             [\u001b[39mint\u001b[39;49m(trans\u001b[39m.\u001b[39;49mbr\u001b[39m.\u001b[39;49miloc[i]\u001b[39m.\u001b[39;49mname[\u001b[39m-\u001b[39;49m\u001b[39m2\u001b[39;49m]) \u001b[39mfor\u001b[39;49;00m i \u001b[39min\u001b[39;49;00m \u001b[39mrange\u001b[39;49m(\u001b[39mlen\u001b[39;49m(trans\u001b[39m.\u001b[39;49mbr))]\n\u001b[0;32m     <a href='vscode-notebook-cell:/c%3A/Users/ogras/Documents/GitHub/CeNTREX-transition-finder/test.ipynb#Y102sZmlsZQ%3D%3D?line=33'>34</a>\u001b[0m             \u001b[39mfor\u001b[39;49;00m trans \u001b[39min\u001b[39;49;00m sorted_transitions\u001b[39m.\u001b[39;49mtransitions_data[mask]\n\u001b[0;32m     <a href='vscode-notebook-cell:/c%3A/Users/ogras/Documents/GitHub/CeNTREX-transition-finder/test.ipynb#Y102sZmlsZQ%3D%3D?line=34'>35</a>\u001b[0m         ]\n\u001b[0;32m     <a href='vscode-notebook-cell:/c%3A/Users/ogras/Documents/GitHub/CeNTREX-transition-finder/test.ipynb#Y102sZmlsZQ%3D%3D?line=35'>36</a>\u001b[0m     ]\n\u001b[0;32m     <a href='vscode-notebook-cell:/c%3A/Users/ogras/Documents/GitHub/CeNTREX-transition-finder/test.ipynb#Y102sZmlsZQ%3D%3D?line=36'>37</a>\u001b[0m )\n\u001b[0;32m     <a href='vscode-notebook-cell:/c%3A/Users/ogras/Documents/GitHub/CeNTREX-transition-finder/test.ipynb#Y102sZmlsZQ%3D%3D?line=38'>39</a>\u001b[0m branching \u001b[39m=\u001b[39m np\u001b[39m.\u001b[39mzeros((mask\u001b[39m.\u001b[39msum(), Js\u001b[39m.\u001b[39msize))\n\u001b[0;32m     <a href='vscode-notebook-cell:/c%3A/Users/ogras/Documents/GitHub/CeNTREX-transition-finder/test.ipynb#Y102sZmlsZQ%3D%3D?line=39'>40</a>\u001b[0m \u001b[39mfor\u001b[39;00m idt, trans \u001b[39min\u001b[39;00m \u001b[39menumerate\u001b[39m(sorted_transitions\u001b[39m.\u001b[39mtransitions_data[mask]):\n",
      "File \u001b[1;32m<__array_function__ internals>:200\u001b[0m, in \u001b[0;36munique\u001b[1;34m(*args, **kwargs)\u001b[0m\n",
      "File \u001b[1;32mc:\\Users\\ogras\\anaconda3\\envs\\centrex-transition-finder\\lib\\site-packages\\numpy\\lib\\arraysetops.py:272\u001b[0m, in \u001b[0;36munique\u001b[1;34m(ar, return_index, return_inverse, return_counts, axis, equal_nan)\u001b[0m\n\u001b[0;32m    138\u001b[0m \u001b[39m@array_function_dispatch\u001b[39m(_unique_dispatcher)\n\u001b[0;32m    139\u001b[0m \u001b[39mdef\u001b[39;00m \u001b[39munique\u001b[39m(ar, return_index\u001b[39m=\u001b[39m\u001b[39mFalse\u001b[39;00m, return_inverse\u001b[39m=\u001b[39m\u001b[39mFalse\u001b[39;00m,\n\u001b[0;32m    140\u001b[0m            return_counts\u001b[39m=\u001b[39m\u001b[39mFalse\u001b[39;00m, axis\u001b[39m=\u001b[39m\u001b[39mNone\u001b[39;00m, \u001b[39m*\u001b[39m, equal_nan\u001b[39m=\u001b[39m\u001b[39mTrue\u001b[39;00m):\n\u001b[0;32m    141\u001b[0m \u001b[39m    \u001b[39m\u001b[39m\"\"\"\u001b[39;00m\n\u001b[0;32m    142\u001b[0m \u001b[39m    Find the unique elements of an array.\u001b[39;00m\n\u001b[0;32m    143\u001b[0m \n\u001b[1;32m   (...)\u001b[0m\n\u001b[0;32m    270\u001b[0m \n\u001b[0;32m    271\u001b[0m \u001b[39m    \"\"\"\u001b[39;00m\n\u001b[1;32m--> 272\u001b[0m     ar \u001b[39m=\u001b[39m np\u001b[39m.\u001b[39;49masanyarray(ar)\n\u001b[0;32m    273\u001b[0m     \u001b[39mif\u001b[39;00m axis \u001b[39mis\u001b[39;00m \u001b[39mNone\u001b[39;00m:\n\u001b[0;32m    274\u001b[0m         ret \u001b[39m=\u001b[39m _unique1d(ar, return_index, return_inverse, return_counts, \n\u001b[0;32m    275\u001b[0m                         equal_nan\u001b[39m=\u001b[39mequal_nan)\n",
      "\u001b[1;31mValueError\u001b[0m: setting an array element with a sequence. The requested array has an inhomogeneous shape after 1 dimensions. The detected shape was (11,) + inhomogeneous part."
     ]
    }
   ],
   "source": [
    "generate_dataframe_branching(\n",
    "    transitions_sorted.transitions[20],\n",
    "    transitions_sorted,\n",
    ")\n"
   ]
  },
  {
   "cell_type": "code",
   "execution_count": 44,
   "metadata": {},
   "outputs": [
    {
     "ename": "AttributeError",
     "evalue": "module 'numpy' has no attribute 'flatten'",
     "output_type": "error",
     "traceback": [
      "\u001b[1;31m---------------------------------------------------------------------------\u001b[0m",
      "\u001b[1;31mAttributeError\u001b[0m                            Traceback (most recent call last)",
      "\u001b[1;32mc:\\Users\\ogras\\Documents\\GitHub\\CeNTREX-transition-finder\\test.ipynb Cell 17\u001b[0m line \u001b[0;36m2\n\u001b[0;32m      <a href='vscode-notebook-cell:/c%3A/Users/ogras/Documents/GitHub/CeNTREX-transition-finder/test.ipynb#Y103sZmlsZQ%3D%3D?line=0'>1</a>\u001b[0m np\u001b[39m.\u001b[39munique(\n\u001b[1;32m----> <a href='vscode-notebook-cell:/c%3A/Users/ogras/Documents/GitHub/CeNTREX-transition-finder/test.ipynb#Y103sZmlsZQ%3D%3D?line=1'>2</a>\u001b[0m     np\u001b[39m.\u001b[39;49mflatten(\n\u001b[0;32m      <a href='vscode-notebook-cell:/c%3A/Users/ogras/Documents/GitHub/CeNTREX-transition-finder/test.ipynb#Y103sZmlsZQ%3D%3D?line=2'>3</a>\u001b[0m         [\n\u001b[0;32m      <a href='vscode-notebook-cell:/c%3A/Users/ogras/Documents/GitHub/CeNTREX-transition-finder/test.ipynb#Y103sZmlsZQ%3D%3D?line=3'>4</a>\u001b[0m             [\u001b[39m0\u001b[39m, \u001b[39m2\u001b[39m],\n\u001b[0;32m      <a href='vscode-notebook-cell:/c%3A/Users/ogras/Documents/GitHub/CeNTREX-transition-finder/test.ipynb#Y103sZmlsZQ%3D%3D?line=4'>5</a>\u001b[0m             [\u001b[39m1\u001b[39m, \u001b[39m3\u001b[39m],\n\u001b[0;32m      <a href='vscode-notebook-cell:/c%3A/Users/ogras/Documents/GitHub/CeNTREX-transition-finder/test.ipynb#Y103sZmlsZQ%3D%3D?line=5'>6</a>\u001b[0m             [\u001b[39m0\u001b[39m, \u001b[39m2\u001b[39m],\n\u001b[0;32m      <a href='vscode-notebook-cell:/c%3A/Users/ogras/Documents/GitHub/CeNTREX-transition-finder/test.ipynb#Y103sZmlsZQ%3D%3D?line=6'>7</a>\u001b[0m             [\u001b[39m1\u001b[39m, \u001b[39m3\u001b[39m],\n\u001b[0;32m      <a href='vscode-notebook-cell:/c%3A/Users/ogras/Documents/GitHub/CeNTREX-transition-finder/test.ipynb#Y103sZmlsZQ%3D%3D?line=7'>8</a>\u001b[0m             [\u001b[39m2\u001b[39m],\n\u001b[0;32m      <a href='vscode-notebook-cell:/c%3A/Users/ogras/Documents/GitHub/CeNTREX-transition-finder/test.ipynb#Y103sZmlsZQ%3D%3D?line=8'>9</a>\u001b[0m             [\u001b[39m1\u001b[39m, \u001b[39m3\u001b[39m],\n\u001b[0;32m     <a href='vscode-notebook-cell:/c%3A/Users/ogras/Documents/GitHub/CeNTREX-transition-finder/test.ipynb#Y103sZmlsZQ%3D%3D?line=9'>10</a>\u001b[0m             [\u001b[39m3\u001b[39m],\n\u001b[0;32m     <a href='vscode-notebook-cell:/c%3A/Users/ogras/Documents/GitHub/CeNTREX-transition-finder/test.ipynb#Y103sZmlsZQ%3D%3D?line=10'>11</a>\u001b[0m             [\u001b[39m0\u001b[39m, \u001b[39m2\u001b[39m],\n\u001b[0;32m     <a href='vscode-notebook-cell:/c%3A/Users/ogras/Documents/GitHub/CeNTREX-transition-finder/test.ipynb#Y103sZmlsZQ%3D%3D?line=11'>12</a>\u001b[0m             [\u001b[39m1\u001b[39m, \u001b[39m3\u001b[39m],\n\u001b[0;32m     <a href='vscode-notebook-cell:/c%3A/Users/ogras/Documents/GitHub/CeNTREX-transition-finder/test.ipynb#Y103sZmlsZQ%3D%3D?line=12'>13</a>\u001b[0m             [\u001b[39m1\u001b[39m, \u001b[39m3\u001b[39m],\n\u001b[0;32m     <a href='vscode-notebook-cell:/c%3A/Users/ogras/Documents/GitHub/CeNTREX-transition-finder/test.ipynb#Y103sZmlsZQ%3D%3D?line=13'>14</a>\u001b[0m             [\u001b[39m0\u001b[39m, \u001b[39m2\u001b[39m],\n\u001b[0;32m     <a href='vscode-notebook-cell:/c%3A/Users/ogras/Documents/GitHub/CeNTREX-transition-finder/test.ipynb#Y103sZmlsZQ%3D%3D?line=14'>15</a>\u001b[0m         ]\n\u001b[0;32m     <a href='vscode-notebook-cell:/c%3A/Users/ogras/Documents/GitHub/CeNTREX-transition-finder/test.ipynb#Y103sZmlsZQ%3D%3D?line=15'>16</a>\u001b[0m     )\n\u001b[0;32m     <a href='vscode-notebook-cell:/c%3A/Users/ogras/Documents/GitHub/CeNTREX-transition-finder/test.ipynb#Y103sZmlsZQ%3D%3D?line=16'>17</a>\u001b[0m )\n",
      "File \u001b[1;32mc:\\Users\\ogras\\anaconda3\\envs\\centrex-transition-finder\\lib\\site-packages\\numpy\\__init__.py:320\u001b[0m, in \u001b[0;36m__getattr__\u001b[1;34m(attr)\u001b[0m\n\u001b[0;32m    317\u001b[0m     \u001b[39mfrom\u001b[39;00m \u001b[39m.\u001b[39;00m\u001b[39mtesting\u001b[39;00m \u001b[39mimport\u001b[39;00m Tester\n\u001b[0;32m    318\u001b[0m     \u001b[39mreturn\u001b[39;00m Tester\n\u001b[1;32m--> 320\u001b[0m \u001b[39mraise\u001b[39;00m \u001b[39mAttributeError\u001b[39;00m(\u001b[39m\"\u001b[39m\u001b[39mmodule \u001b[39m\u001b[39m{!r}\u001b[39;00m\u001b[39m has no attribute \u001b[39m\u001b[39m\"\u001b[39m\n\u001b[0;32m    321\u001b[0m                      \u001b[39m\"\u001b[39m\u001b[39m{!r}\u001b[39;00m\u001b[39m\"\u001b[39m\u001b[39m.\u001b[39mformat(\u001b[39m__name__\u001b[39m, attr))\n",
      "\u001b[1;31mAttributeError\u001b[0m: module 'numpy' has no attribute 'flatten'"
     ]
    }
   ],
   "source": [
    "np.unique(\n",
    "    np.flat(\n",
    "        [\n",
    "            [0, 2],\n",
    "            [1, 3],\n",
    "            [0, 2],\n",
    "            [1, 3],\n",
    "            [2],\n",
    "            [1, 3],\n",
    "            [3],\n",
    "            [0, 2],\n",
    "            [1, 3],\n",
    "            [1, 3],\n",
    "            [0, 2],\n",
    "        ]\n",
    "    )\n",
    ")\n"
   ]
  },
  {
   "cell_type": "code",
   "execution_count": null,
   "metadata": {},
   "outputs": [],
   "source": []
  }
 ],
 "metadata": {
  "kernelspec": {
   "display_name": "centrex-transition-finder",
   "language": "python",
   "name": "python3"
  },
  "language_info": {
   "codemirror_mode": {
    "name": "ipython",
    "version": 3
   },
   "file_extension": ".py",
   "mimetype": "text/x-python",
   "name": "python",
   "nbconvert_exporter": "python",
   "pygments_lexer": "ipython3",
   "version": "3.10.14"
  }
 },
 "nbformat": 4,
 "nbformat_minor": 2
}
